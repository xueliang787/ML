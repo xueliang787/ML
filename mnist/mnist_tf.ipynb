{
 "cells": [
  {
   "cell_type": "code",
   "execution_count": 2,
   "metadata": {},
   "outputs": [
    {
     "name": "stdout",
     "output_type": "stream",
     "text": [
      "Extracting MNIST_data/train-images-idx3-ubyte.gz\n",
      "Extracting MNIST_data/train-labels-idx1-ubyte.gz\n",
      "Extracting MNIST_data/t10k-images-idx3-ubyte.gz\n",
      "Extracting MNIST_data/t10k-labels-idx1-ubyte.gz\n"
     ]
    }
   ],
   "source": [
    "# coding:utf-8\n",
    "# 导入tensorflow。\n",
    "# 这句import tensorflow as tf是导入TensorFlow约定俗成的做法，请大家记住。\n",
    "import tensorflow as tf\n",
    "# 导入MNIST教学的模块\n",
    "from tensorflow.examples.tutorials.mnist import input_data\n",
    "# 与之前一样，读入MNIST数据\n",
    "mnist = input_data.read_data_sets(\"MNIST_data/\", one_hot=True)"
   ]
  },
  {
   "cell_type": "code",
   "execution_count": 3,
   "metadata": {},
   "outputs": [
    {
     "name": "stdout",
     "output_type": "stream",
     "text": [
      "WARNING:tensorflow:From D:\\install_path\\Anaconda\\envs\\tensorflow1.13\\lib\\site-packages\\tensorflow\\python\\framework\\op_def_library.py:263: colocate_with (from tensorflow.python.framework.ops) is deprecated and will be removed in a future version.\n",
      "Instructions for updating:\n",
      "Colocations handled automatically by placer.\n"
     ]
    }
   ],
   "source": [
    "# 创建x，x是一个占位符（placeholder），代表待识别的图片\n",
    "x = tf.placeholder(tf.float32, [None, 784])\n",
    "\n",
    "# W是Softmax模型的参数，将一个784维的输入转换为一个10维的输出\n",
    "# 在TensorFlow中，变量的参数用tf.Variable表示\n",
    "W = tf.Variable(tf.zeros([784, 10]))\n",
    "# b是又一个Softmax模型的参数，我们一般叫做“偏置项”（bias）。\n",
    "b = tf.Variable(tf.zeros([10]))\n",
    "\n",
    "# y=softmax(Wx + b)，y表示模型的输出\n",
    "y = tf.nn.softmax(tf.matmul(x, W) + b)\n",
    "\n",
    "# y_是实际的图像标签，同样以占位符表示。\n",
    "y_ = tf.placeholder(tf.float32, [None, 10])"
   ]
  },
  {
   "cell_type": "code",
   "execution_count": 5,
   "metadata": {},
   "outputs": [],
   "source": [
    "# 根据y, y_构造交叉熵损失\n",
    "cross_entropy = tf.reduce_mean(-tf.reduce_sum(y_ * tf.log(y)))"
   ]
  },
  {
   "cell_type": "code",
   "execution_count": 6,
   "metadata": {},
   "outputs": [],
   "source": [
    "# 有了损失，我们就可以用随机梯度下降针对模型的参数（W和b）进行优化\n",
    "train_step = tf.train.GradientDescentOptimizer(0.01).minimize(cross_entropy)"
   ]
  },
  {
   "cell_type": "code",
   "execution_count": 7,
   "metadata": {},
   "outputs": [
    {
     "name": "stdout",
     "output_type": "stream",
     "text": [
      "start training...\n"
     ]
    }
   ],
   "source": [
    "# 创建一个Session。只有在Session中才能运行优化步骤train_step。\n",
    "sess = tf.InteractiveSession()\n",
    "# 运行之前必须要初始化所有变量，分配内存。\n",
    "tf.global_variables_initializer().run()\n",
    "print('start training...')\n",
    "\n",
    "\n",
    "# 进行1000步梯度下降\n",
    "for _ in range(1000):\n",
    "    # 在mnist.train中取100个训练数据\n",
    "    # batch_xs是形状为(100, 784)的图像数据，batch_ys是形如(100, 10)的实际标签\n",
    "    # batch_xs, batch_ys对应着两个占位符x和y_\n",
    "    batch_xs, batch_ys = mnist.train.next_batch(100)\n",
    "    # 在Session中运行train_step，运行时要传入占位符的值\n",
    "    sess.run(train_step, feed_dict={x: batch_xs, y_: batch_ys}) "
   ]
  },
  {
   "cell_type": "code",
   "execution_count": 8,
   "metadata": {},
   "outputs": [
    {
     "name": "stdout",
     "output_type": "stream",
     "text": [
      "0.9109\n"
     ]
    }
   ],
   "source": [
    "# 正确的预测结果\n",
    "correct_prediction = tf.equal(tf.argmax(y, 1), tf.argmax(y_, 1))\n",
    "# 计算预测准确率，它们都是Tensor\n",
    "accuracy = tf.reduce_mean(tf.cast(correct_prediction, tf.float32))\n",
    "# 在Session中运行Tensor可以得到Tensor的值\n",
    "# 这里是获取最终模型的正确率\n",
    "print(sess.run(accuracy, feed_dict={x: mnist.test.images, y_: mnist.test.labels}))"
   ]
  }
 ],
 "metadata": {
  "kernelspec": {
   "display_name": "Python 3",
   "language": "python",
   "name": "python3"
  },
  "language_info": {
   "codemirror_mode": {
    "name": "ipython",
    "version": 3
   },
   "file_extension": ".py",
   "mimetype": "text/x-python",
   "name": "python",
   "nbconvert_exporter": "python",
   "pygments_lexer": "ipython3",
   "version": "3.6.10"
  }
 },
 "nbformat": 4,
 "nbformat_minor": 4
}
