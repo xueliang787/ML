{
 "cells": [
  {
   "cell_type": "code",
   "execution_count": 1,
   "metadata": {},
   "outputs": [
    {
     "name": "stdout",
     "output_type": "stream",
     "text": [
      "[Row(userId=100, recommendations=[Row(movieId=83318, rating=5.221015930175781), Row(movieId=67504, rating=5.221015930175781), Row(movieId=83411, rating=5.221015930175781), Row(movieId=83359, rating=5.221015930175781), Row(movieId=59684, rating=4.864858150482178)])]\n"
     ]
    }
   ],
   "source": [
    "from pyspark.ml.recommendation import ALS\n",
    "from pyspark import SparkContext\n",
    "from pyspark.sql import SQLContext\n",
    "from pyspark.sql.types import *\n",
    "import pandas as pd\n",
    "sc = SparkContext()\n",
    "sql_sc = SQLContext(sc)\n",
    "\n",
    "pd_df_ratings = pd.read_csv('./ratings_small.csv')\n",
    "pyspark_df_ratings = sql_sc.createDataFrame(pd_df_ratings)\n",
    "pyspark_df_ratings = pyspark_df_ratings.drop('Timestamp')\n",
    "#print(pyspark_df_ratings.show(5, truncate=False))\n",
    "\n",
    "# 创建ALS模型\n",
    "als = ALS(rank=3, maxIter = 10, regParam=0.1, userCol= 'userId', itemCol='movieId', ratingCol='rating')\n",
    "model = als.fit(pyspark_df_ratings)\n",
    "# 对userId=100进行Top-N推荐\n",
    "recommendations = model.recommendForAllUsers(5)\n",
    "print(recommendations.where(recommendations.userId == 100).collect())\n"
   ]
  }
 ],
 "metadata": {
  "kernelspec": {
   "display_name": "Python 3",
   "language": "python",
   "name": "python3"
  },
  "language_info": {
   "codemirror_mode": {
    "name": "ipython",
    "version": 3
   },
   "file_extension": ".py",
   "mimetype": "text/x-python",
   "name": "python",
   "nbconvert_exporter": "python",
   "pygments_lexer": "ipython3",
   "version": "3.7.4"
  }
 },
 "nbformat": 4,
 "nbformat_minor": 4
}
