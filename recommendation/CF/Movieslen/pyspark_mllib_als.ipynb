{
 "cells": [
  {
   "cell_type": "code",
   "execution_count": 1,
   "metadata": {},
   "outputs": [],
   "source": [
    "# 使用pyspark-ALS进行矩阵分解\n",
    "from pyspark import SparkContext\n",
    "from pyspark.mllib.recommendation import ALS"
   ]
  },
  {
   "cell_type": "code",
   "execution_count": 2,
   "metadata": {},
   "outputs": [
    {
     "name": "stdout",
     "output_type": "stream",
     "text": [
      "使用Spark-ALS算法\n",
      "100004\n",
      "1,31,2.5,1260759144\n"
     ]
    }
   ],
   "source": [
    "print(\"使用Spark-ALS算法\") \n",
    "sc = SparkContext('local', 'MovieRec')\n",
    "# 读取数据，需要第一行不是列名\n",
    "rawUserData = temp = sc.textFile('./ratings_small_without_header.csv')\n",
    "print(rawUserData.count())\n",
    "print(rawUserData.first())\n"
   ]
  },
  {
   "cell_type": "code",
   "execution_count": 3,
   "metadata": {},
   "outputs": [
    {
     "name": "stdout",
     "output_type": "stream",
     "text": [
      "[['1', '31', '2.5'], ['1', '1029', '3.0'], ['1', '1061', '3.0'], ['1', '1129', '2.0'], ['1', '1172', '4.0']]\n",
      "[Rating(user=100, product=4404, rating=5.751443419595287), Rating(user=100, product=67504, rating=5.313006452654591), Rating(user=100, product=83318, rating=5.313006452654591), Rating(user=100, product=83359, rating=5.313006452654591), Rating(user=100, product=83411, rating=5.313006452654591)]\n"
     ]
    }
   ],
   "source": [
    "rawRatings = rawUserData.map(lambda line: line.split(\",\")[:3])\n",
    "print(rawRatings.take(5))\n",
    "training_RDD = rawRatings.map(lambda x: (x[0], x[1], x[2]))\n",
    "\n",
    "# 模型训练\n",
    "rank = 3\n",
    "model = ALS.train(training_RDD, rank, seed=5, iterations=10, lambda_=0.1)\n",
    "# 针对user_id = 100的用户进行Top-N推荐\n",
    "print(model.recommendProducts(100, 5))"
   ]
  }
 ],
 "metadata": {
  "kernelspec": {
   "display_name": "Python 3",
   "language": "python",
   "name": "python3"
  },
  "language_info": {
   "codemirror_mode": {
    "name": "ipython",
    "version": 3
   },
   "file_extension": ".py",
   "mimetype": "text/x-python",
   "name": "python",
   "nbconvert_exporter": "python",
   "pygments_lexer": "ipython3",
   "version": "3.7.4"
  }
 },
 "nbformat": 4,
 "nbformat_minor": 4
}
