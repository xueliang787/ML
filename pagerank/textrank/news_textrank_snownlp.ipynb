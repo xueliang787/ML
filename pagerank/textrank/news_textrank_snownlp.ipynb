{
 "cells": [
  {
   "cell_type": "code",
   "execution_count": 1,
   "metadata": {},
   "outputs": [],
   "source": [
    "from snownlp import SnowNLP"
   ]
  },
  {
   "cell_type": "code",
   "execution_count": 2,
   "metadata": {},
   "outputs": [],
   "source": [
    "text = '一个超过5000万人关注的大项目，您参加了吗?央视新闻新媒体推出武汉火神山、雷神山医院建设现场24小时不间断直播，短短几天时间吸引无数关心医院建设的网友围观。'\\\n",
    "\t+ '其中最受广大网友关注的火神山两路镜头对准的正是中建三局三公司承建区域，截至30日13:50，在看人数已突破5000万。热心的网友们自称为 云监工 或 网络包工头，'\\\n",
    "\t+ '自发在评论区实行 两班倒 打卡 监督 还热切、尽职的互动交流起了工作。这一称号数度登上微博热搜。繁忙却相对单调枯燥的施工画面，因为云监工们脑洞大开的评论而妙趣横生，'\\\n",
    "\t+ '他们给所有的机器都起好了名字，根据颜色亲昵的叫上了小红、小黄、小蓝，没事就来视频里蹲自己喜欢的机器出现还编起了段子，绘起了同人。'\\\n",
    "\t+ '不仅现场的各种机械设备有了粉丝团，有细心者甚至数出了直播画面中中建三局三公司这一施工区域中出镜的管理人员与工友人数。'\\\n",
    "\t+ '记者了解到，火神山医院建设方之一的中建三局三公司在四川也有不少项目，德阳市妇女儿童专科医院项目也是该公司在建设。'\\\n",
    "\t+ '最后，让我们一起以比直播镜头更近、更鲜活的视角来重温让万千网友为之惊叹鼓舞的奋斗时刻!'\n"
   ]
  },
  {
   "cell_type": "code",
   "execution_count": 3,
   "metadata": {},
   "outputs": [
    {
     "name": "stdout",
     "output_type": "stream",
     "text": [
      "['友', '医院', '中', '建设', '上', '还', '山', '火神', '机器', '公司', '关注', '三', '现场', '大', '直播', '云', '工', '项目', '施工', '评论']\n"
     ]
    }
   ],
   "source": [
    "snow = SnowNLP(text)\n",
    "# 打印关键词\n",
    "print(snow.keywords(20))\n",
    "\n"
   ]
  },
  {
   "cell_type": "code",
   "execution_count": 4,
   "metadata": {},
   "outputs": [
    {
     "name": "stdout",
     "output_type": "stream",
     "text": [
      "['有细心者甚至数出了直播画面中中建三局三公司这一施工区域中出镜的管理人员与工友人数', '火神山医院建设方之一的中建三局三公司在四川也有不少项目', '其中最受广大网友关注的火神山两路镜头对准的正是中建三局三公司承建区域', '一个超过5000万人关注的大项目', '德阳市妇女儿童专科医院项目也是该公司在建设', '您参加了吗?央视新闻新媒体推出武汉火神山、雷神山医院建设现场24小时不间断直播', '没事就来视频里蹲自己喜欢的机器出现还编起了段子', '因为云监工们脑洞大开的评论而妙趣横生', '短短几天时间吸引无数关心医院建设的网友围观', '在看人数已突破5000万']\n",
      "0.9999999984641912\n"
     ]
    }
   ],
   "source": [
    "# TextRank算法\n",
    "print(snow.summary(10))\n",
    "print(snow.sentiments)"
   ]
  }
 ],
 "metadata": {
  "kernelspec": {
   "display_name": "Python 3",
   "language": "python",
   "name": "python3"
  },
  "language_info": {
   "codemirror_mode": {
    "name": "ipython",
    "version": 3
   },
   "file_extension": ".py",
   "mimetype": "text/x-python",
   "name": "python",
   "nbconvert_exporter": "python",
   "pygments_lexer": "ipython3",
   "version": "3.7.4"
  }
 },
 "nbformat": 4,
 "nbformat_minor": 4
}
