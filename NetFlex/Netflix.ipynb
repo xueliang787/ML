{
 "cells": [
  {
   "cell_type": "markdown",
   "metadata": {},
   "source": [
    "#### 因为数据量过大，所以采用抽样的方法对数据进行处理。因为数据在多个文件中，需要分批处理。"
   ]
  },
  {
   "cell_type": "markdown",
   "metadata": {},
   "source": [
    "#### 因为需要测试的probe文件，包含在数据集中，需要拿到对应的标签。所以处理比较麻烦"
   ]
  },
  {
   "cell_type": "code",
   "execution_count": 1,
   "metadata": {},
   "outputs": [],
   "source": [
    "from surprise import Dataset\n",
    "from surprise import Reader\n",
    "from surprise import accuracy\n",
    "from surprise import BaselineOnly\n",
    "from surprise.model_selection import KFold\n",
    "from sklearn.model_selection import train_test_split\n",
    "from sklearn.metrics import mean_squared_error\n",
    "import pandas as pd\n",
    "import numpy as np"
   ]
  },
  {
   "cell_type": "code",
   "execution_count": 2,
   "metadata": {},
   "outputs": [],
   "source": [
    "#用来临时存放读取的数据\n",
    "movies_1 = {}\n",
    "movies_2 = {}\n",
    "movies_3 = {}\n",
    "movies_4 = {}\n",
    "\n",
    "#存放4个数据集的二维列表\n",
    "train_1 = []\n",
    "train_2 = []\n",
    "train_3 = []\n",
    "train_4 = []"
   ]
  },
  {
   "cell_type": "markdown",
   "metadata": {},
   "source": [
    "#### 从txt文件中读取数据，并整理格式,变成两层字典，即{movieid:{customerid:rating}}"
   ]
  },
  {
   "cell_type": "code",
   "execution_count": 3,
   "metadata": {},
   "outputs": [],
   "source": [
    "def readtrain(txt,movie):\n",
    "    with open(txt, \"r\") as f: # 打开文件\n",
    "        for line in f.readlines():# 读取文件\n",
    "            line = line.replace('\\n', '').replace('\\r', '')\n",
    "            if ':' in line:\n",
    "                movieid = line.split(':')[0]\n",
    "                movie.setdefault(movieid,{})\n",
    "            else:\n",
    "                customerid = line.split(',')[0]\n",
    "                rating = line.split(',')[1]\n",
    "                movie[movieid][customerid] = rating"
   ]
  },
  {
   "cell_type": "markdown",
   "metadata": {},
   "source": [
    "#### 将数据从两层字典即{movieid:{customerid:rating}}转化成pandas的dataframe，即[[userid,movieid,rating]]"
   ]
  },
  {
   "cell_type": "code",
   "execution_count": 4,
   "metadata": {},
   "outputs": [],
   "source": [
    "def trainlist(train,movie):\n",
    "    for movieid,customer in movie.items():\n",
    "        for customerid,rating in customer.items():\n",
    "            data = []\n",
    "            data.append(customerid)\n",
    "            data.append(movieid)\n",
    "            data.append(rating)\n",
    "            train.append(data)\n",
    "        \n",
    "    train = pd.DataFrame(train)\n",
    "    train.columns = ['userId', 'movieId',  'rating']\n",
    "    return train"
   ]
  },
  {
   "cell_type": "markdown",
   "metadata": {},
   "source": [
    "#### 读取数据并处理数据格式阶段"
   ]
  },
  {
   "cell_type": "code",
   "execution_count": 5,
   "metadata": {},
   "outputs": [
    {
     "name": "stdout",
     "output_type": "stream",
     "text": [
      "数据集1共有24053764条数据\n"
     ]
    }
   ],
   "source": [
    "#读取数据集1，并处理数据\n",
    "readtrain('combined_data_1.txt',movies_1)\n",
    "train_1 = trainlist(train_1,movies_1)\n",
    "print(\"数据集1共有\"+str(len(train_1))+\"条数据\")"
   ]
  },
  {
   "cell_type": "code",
   "execution_count": 6,
   "metadata": {},
   "outputs": [
    {
     "name": "stdout",
     "output_type": "stream",
     "text": [
      "数据集2共有26977591条数据\n"
     ]
    }
   ],
   "source": [
    "#读取数据集2，并处理数据\n",
    "readtrain('combined_data_2.txt',movies_2)\n",
    "train_2 = trainlist(train_2,movies_2)\n",
    "print(\"数据集2共有\"+str(len(train_2))+\"条数据\")"
   ]
  },
  {
   "cell_type": "code",
   "execution_count": 7,
   "metadata": {},
   "outputs": [
    {
     "name": "stdout",
     "output_type": "stream",
     "text": [
      "数据集3共有22601629条数据\n"
     ]
    }
   ],
   "source": [
    "#读取数据集3，并处理数据\n",
    "readtrain('combined_data_3.txt',movies_3)\n",
    "train_3 = trainlist(train_3,movies_3)\n",
    "print(\"数据集3共有\"+str(len(train_3))+\"条数据\")"
   ]
  },
  {
   "cell_type": "code",
   "execution_count": 8,
   "metadata": {},
   "outputs": [
    {
     "name": "stdout",
     "output_type": "stream",
     "text": [
      "数据集4共有26847523条数据\n"
     ]
    }
   ],
   "source": [
    "#读取数据集4，并处理数据\n",
    "readtrain('combined_data_4.txt',movies_4)\n",
    "train_4 = trainlist(train_4,movies_4)\n",
    "print(\"数据集4共有\"+str(len(train_4))+\"条数据\")"
   ]
  },
  {
   "cell_type": "code",
   "execution_count": 9,
   "metadata": {},
   "outputs": [
    {
     "name": "stdout",
     "output_type": "stream",
     "text": [
      "probe文件共有1408395数据\n"
     ]
    }
   ],
   "source": [
    "#读取需要测试的数据集，即probe数据集，并处理数据，同上面过程相似，只不过少一个rating字段，需要单独计算\n",
    "movies_probe = {}\n",
    "def readtest(txt):\n",
    "    with open(txt, \"r\") as f: # 打开文件\n",
    "        for line in f.readlines():# 读取文件\n",
    "            line = line.replace('\\n', '').replace('\\r', '')\n",
    "            if ':' in line:\n",
    "                movieid = line.split(':')[0]\n",
    "                movies_probe.setdefault(movieid,[])\n",
    "            else:\n",
    "                customerid = line.split(',')[0]\n",
    "                movies_probe[movieid].append(customerid)\n",
    "                \n",
    "readtest('probe.txt')              \n",
    "test = []\n",
    "for movieid,customer in movies_probe.items():\n",
    "    for customerid in customer:\n",
    "        data = []\n",
    "        data.append(customerid)\n",
    "        data.append(movieid)\n",
    "        test.append(data)\n",
    "\n",
    "test = pd.DataFrame(test)\n",
    "test.columns = ['userId', 'movieId']\n",
    "print(\"probe文件共有\"+str(len(test))+\"数据\")"
   ]
  },
  {
   "cell_type": "markdown",
   "metadata": {},
   "source": [
    "#### 因为要将Probe作为测试集，所以打算把数据集中属于probe的部分剔除，同时获取probe中的标签，计算RMSE"
   ]
  },
  {
   "cell_type": "code",
   "execution_count": 10,
   "metadata": {},
   "outputs": [],
   "source": [
    "#设置标志位，拼接dataframe，根据是否有空行能识别出是否为probe中的数据\n",
    "test['label'] = '1'"
   ]
  },
  {
   "cell_type": "markdown",
   "metadata": {},
   "source": [
    "##### 查询是否有空值，如果有进行填充，避免影响数据分割"
   ]
  },
  {
   "cell_type": "code",
   "execution_count": 11,
   "metadata": {},
   "outputs": [
    {
     "data": {
      "text/plain": [
       "0"
      ]
     },
     "execution_count": 11,
     "metadata": {},
     "output_type": "execute_result"
    }
   ],
   "source": [
    "#查看数据集1是否有空值\n",
    "sum(train_1.isnull().any())"
   ]
  },
  {
   "cell_type": "code",
   "execution_count": 12,
   "metadata": {},
   "outputs": [
    {
     "data": {
      "text/plain": [
       "0"
      ]
     },
     "execution_count": 12,
     "metadata": {},
     "output_type": "execute_result"
    }
   ],
   "source": [
    "#查看数据集2是否有空值\n",
    "sum(train_2.isnull().any())"
   ]
  },
  {
   "cell_type": "code",
   "execution_count": 13,
   "metadata": {},
   "outputs": [
    {
     "data": {
      "text/plain": [
       "0"
      ]
     },
     "execution_count": 13,
     "metadata": {},
     "output_type": "execute_result"
    }
   ],
   "source": [
    "##查看数据集3是否有空值\n",
    "sum(train_3.isnull().any())"
   ]
  },
  {
   "cell_type": "code",
   "execution_count": 14,
   "metadata": {},
   "outputs": [
    {
     "data": {
      "text/plain": [
       "0"
      ]
     },
     "execution_count": 14,
     "metadata": {},
     "output_type": "execute_result"
    }
   ],
   "source": [
    "#查看数据集4是否有空值\n",
    "sum(train_4.isnull().any())"
   ]
  },
  {
   "cell_type": "markdown",
   "metadata": {},
   "source": [
    "##### 矩阵拼接并删除空值。（剩下的都是probe里面的数据）"
   ]
  },
  {
   "cell_type": "code",
   "execution_count": 15,
   "metadata": {},
   "outputs": [
    {
     "name": "stdout",
     "output_type": "stream",
     "text": [
      "删除空值前共有24053764条数据\n",
      "删除空值后共有577213条数据\n"
     ]
    }
   ],
   "source": [
    "test_1 = pd.merge(train_1, test, how='left', on=['userId','movieId'])\n",
    "print(\"删除空值前共有\"+str(len(test_1))+\"条数据\")\n",
    "test_1.dropna(axis=0, how='any', inplace=True)\n",
    "print(\"删除空值后共有\"+str(len(test_1))+\"条数据\")"
   ]
  },
  {
   "cell_type": "code",
   "execution_count": 16,
   "metadata": {},
   "outputs": [
    {
     "name": "stdout",
     "output_type": "stream",
     "text": [
      "删除空值前共有26977591条数据\n",
      "删除空值后共有352289条数据\n"
     ]
    }
   ],
   "source": [
    "test_2 = pd.merge(train_2, test, how='left', on=['userId','movieId'])\n",
    "print(\"删除空值前共有\"+str(len(test_2))+\"条数据\")\n",
    "test_2.dropna(axis=0, how='any', inplace=True)\n",
    "print(\"删除空值后共有\"+str(len(test_2))+\"条数据\")"
   ]
  },
  {
   "cell_type": "code",
   "execution_count": 17,
   "metadata": {},
   "outputs": [
    {
     "name": "stdout",
     "output_type": "stream",
     "text": [
      "删除空值前共有22601629条数据\n",
      "删除空值后共有245903条数据\n"
     ]
    }
   ],
   "source": [
    "test_3 = pd.merge(train_3, test, how='left', on=['userId','movieId'])\n",
    "print(\"删除空值前共有\"+str(len(test_3))+\"条数据\")\n",
    "test_3.dropna(axis=0, how='any', inplace=True)\n",
    "print(\"删除空值后共有\"+str(len(test_3))+\"条数据\")"
   ]
  },
  {
   "cell_type": "code",
   "execution_count": 18,
   "metadata": {},
   "outputs": [
    {
     "name": "stdout",
     "output_type": "stream",
     "text": [
      "删除空值前共有26847523条数据\n",
      "删除空值后共有232990条数据\n"
     ]
    }
   ],
   "source": [
    "test_4 = pd.merge(train_4, test, how='left', on=['userId','movieId'])\n",
    "print(\"删除空值前共有\"+str(len(test_4))+\"条数据\")\n",
    "test_4.dropna(axis=0, how='any', inplace=True)\n",
    "print(\"删除空值后共有\"+str(len(test_4))+\"条数据\")"
   ]
  },
  {
   "cell_type": "markdown",
   "metadata": {},
   "source": [
    "#### 将得到标签的测试集数据拼接起来"
   ]
  },
  {
   "cell_type": "code",
   "execution_count": 30,
   "metadata": {},
   "outputs": [],
   "source": [
    "testset = test_1\n",
    "testset = testset.append(test_2, ignore_index=True)\n",
    "testset = testset.append(test_3, ignore_index=True)\n",
    "testset = testset.append(test_4, ignore_index=True)"
   ]
  },
  {
   "cell_type": "code",
   "execution_count": 31,
   "metadata": {},
   "outputs": [],
   "source": [
    "testset = testset.drop('label',axis=1)\n",
    "labels = testset['rating']"
   ]
  },
  {
   "cell_type": "markdown",
   "metadata": {},
   "source": [
    "#### 训练集太大，内存遇到不够用的情况，抽取一部分数据出来作为训练集 "
   ]
  },
  {
   "cell_type": "code",
   "execution_count": 21,
   "metadata": {},
   "outputs": [],
   "source": [
    "trainset_temp_1,drop_set = train_test_split(train_1, test_size=0.95, train_size=0.05, random_state=11, shuffle=True)\n",
    "trainset_temp_2,drop_set = train_test_split(train_2, test_size=0.95, train_size=0.05, random_state=11, shuffle=True)\n",
    "trainset_temp_3,drop_set = train_test_split(train_3, test_size=0.95, train_size=0.05, random_state=11, shuffle=True)\n",
    "trainset_temp_4,drop_set = train_test_split(train_4, test_size=0.95, train_size=0.05, random_state=11, shuffle=True)"
   ]
  },
  {
   "cell_type": "code",
   "execution_count": 32,
   "metadata": {},
   "outputs": [],
   "source": [
    "trainset = trainset_temp_1.reset_index(drop=True).head()\n",
    "trainset = trainset.append(trainset_temp_2, ignore_index=True)\n",
    "trainset = trainset.append(trainset_temp_3, ignore_index=True)\n",
    "trainset = trainset.append(trainset_temp_4, ignore_index=True)"
   ]
  },
  {
   "cell_type": "markdown",
   "metadata": {},
   "source": [
    "#### 查看dataframe格式的训练集和测试集"
   ]
  },
  {
   "cell_type": "code",
   "execution_count": 33,
   "metadata": {},
   "outputs": [
    {
     "data": {
      "text/plain": [
       "3821341"
      ]
     },
     "execution_count": 33,
     "metadata": {},
     "output_type": "execute_result"
    }
   ],
   "source": [
    "len(trainset)"
   ]
  },
  {
   "cell_type": "code",
   "execution_count": 34,
   "metadata": {},
   "outputs": [
    {
     "data": {
      "text/plain": [
       "1408395"
      ]
     },
     "execution_count": 34,
     "metadata": {},
     "output_type": "execute_result"
    }
   ],
   "source": [
    "len(testset)"
   ]
  },
  {
   "cell_type": "code",
   "execution_count": 35,
   "metadata": {},
   "outputs": [
    {
     "data": {
      "text/html": [
       "<div>\n",
       "<style scoped>\n",
       "    .dataframe tbody tr th:only-of-type {\n",
       "        vertical-align: middle;\n",
       "    }\n",
       "\n",
       "    .dataframe tbody tr th {\n",
       "        vertical-align: top;\n",
       "    }\n",
       "\n",
       "    .dataframe thead th {\n",
       "        text-align: right;\n",
       "    }\n",
       "</style>\n",
       "<table border=\"1\" class=\"dataframe\">\n",
       "  <thead>\n",
       "    <tr style=\"text-align: right;\">\n",
       "      <th></th>\n",
       "      <th>userId</th>\n",
       "      <th>movieId</th>\n",
       "      <th>rating</th>\n",
       "    </tr>\n",
       "  </thead>\n",
       "  <tbody>\n",
       "    <tr>\n",
       "      <td>0</td>\n",
       "      <td>2425195</td>\n",
       "      <td>2346</td>\n",
       "      <td>3</td>\n",
       "    </tr>\n",
       "    <tr>\n",
       "      <td>1</td>\n",
       "      <td>1853520</td>\n",
       "      <td>3198</td>\n",
       "      <td>3</td>\n",
       "    </tr>\n",
       "    <tr>\n",
       "      <td>2</td>\n",
       "      <td>1857050</td>\n",
       "      <td>2216</td>\n",
       "      <td>4</td>\n",
       "    </tr>\n",
       "    <tr>\n",
       "      <td>3</td>\n",
       "      <td>665042</td>\n",
       "      <td>1865</td>\n",
       "      <td>2</td>\n",
       "    </tr>\n",
       "    <tr>\n",
       "      <td>4</td>\n",
       "      <td>1310403</td>\n",
       "      <td>3254</td>\n",
       "      <td>3</td>\n",
       "    </tr>\n",
       "    <tr>\n",
       "      <td>...</td>\n",
       "      <td>...</td>\n",
       "      <td>...</td>\n",
       "      <td>...</td>\n",
       "    </tr>\n",
       "    <tr>\n",
       "      <td>3821336</td>\n",
       "      <td>2246180</td>\n",
       "      <td>14909</td>\n",
       "      <td>4</td>\n",
       "    </tr>\n",
       "    <tr>\n",
       "      <td>3821337</td>\n",
       "      <td>2108102</td>\n",
       "      <td>13847</td>\n",
       "      <td>5</td>\n",
       "    </tr>\n",
       "    <tr>\n",
       "      <td>3821338</td>\n",
       "      <td>136918</td>\n",
       "      <td>16063</td>\n",
       "      <td>4</td>\n",
       "    </tr>\n",
       "    <tr>\n",
       "      <td>3821339</td>\n",
       "      <td>2640550</td>\n",
       "      <td>17395</td>\n",
       "      <td>4</td>\n",
       "    </tr>\n",
       "    <tr>\n",
       "      <td>3821340</td>\n",
       "      <td>38946</td>\n",
       "      <td>13763</td>\n",
       "      <td>5</td>\n",
       "    </tr>\n",
       "  </tbody>\n",
       "</table>\n",
       "<p>3821341 rows × 3 columns</p>\n",
       "</div>"
      ],
      "text/plain": [
       "          userId movieId rating\n",
       "0        2425195    2346      3\n",
       "1        1853520    3198      3\n",
       "2        1857050    2216      4\n",
       "3         665042    1865      2\n",
       "4        1310403    3254      3\n",
       "...          ...     ...    ...\n",
       "3821336  2246180   14909      4\n",
       "3821337  2108102   13847      5\n",
       "3821338   136918   16063      4\n",
       "3821339  2640550   17395      4\n",
       "3821340    38946   13763      5\n",
       "\n",
       "[3821341 rows x 3 columns]"
      ]
     },
     "execution_count": 35,
     "metadata": {},
     "output_type": "execute_result"
    }
   ],
   "source": [
    "trainset"
   ]
  },
  {
   "cell_type": "code",
   "execution_count": 36,
   "metadata": {},
   "outputs": [
    {
     "data": {
      "text/html": [
       "<div>\n",
       "<style scoped>\n",
       "    .dataframe tbody tr th:only-of-type {\n",
       "        vertical-align: middle;\n",
       "    }\n",
       "\n",
       "    .dataframe tbody tr th {\n",
       "        vertical-align: top;\n",
       "    }\n",
       "\n",
       "    .dataframe thead th {\n",
       "        text-align: right;\n",
       "    }\n",
       "</style>\n",
       "<table border=\"1\" class=\"dataframe\">\n",
       "  <thead>\n",
       "    <tr style=\"text-align: right;\">\n",
       "      <th></th>\n",
       "      <th>userId</th>\n",
       "      <th>movieId</th>\n",
       "      <th>rating</th>\n",
       "    </tr>\n",
       "  </thead>\n",
       "  <tbody>\n",
       "    <tr>\n",
       "      <td>0</td>\n",
       "      <td>30878</td>\n",
       "      <td>1</td>\n",
       "      <td>4</td>\n",
       "    </tr>\n",
       "    <tr>\n",
       "      <td>1</td>\n",
       "      <td>2647871</td>\n",
       "      <td>1</td>\n",
       "      <td>4</td>\n",
       "    </tr>\n",
       "    <tr>\n",
       "      <td>2</td>\n",
       "      <td>1283744</td>\n",
       "      <td>1</td>\n",
       "      <td>3</td>\n",
       "    </tr>\n",
       "    <tr>\n",
       "      <td>3</td>\n",
       "      <td>2488120</td>\n",
       "      <td>1</td>\n",
       "      <td>5</td>\n",
       "    </tr>\n",
       "    <tr>\n",
       "      <td>4</td>\n",
       "      <td>317050</td>\n",
       "      <td>1</td>\n",
       "      <td>5</td>\n",
       "    </tr>\n",
       "    <tr>\n",
       "      <td>...</td>\n",
       "      <td>...</td>\n",
       "      <td>...</td>\n",
       "      <td>...</td>\n",
       "    </tr>\n",
       "    <tr>\n",
       "      <td>1408390</td>\n",
       "      <td>829192</td>\n",
       "      <td>17770</td>\n",
       "      <td>3</td>\n",
       "    </tr>\n",
       "    <tr>\n",
       "      <td>1408391</td>\n",
       "      <td>54864</td>\n",
       "      <td>17770</td>\n",
       "      <td>1</td>\n",
       "    </tr>\n",
       "    <tr>\n",
       "      <td>1408392</td>\n",
       "      <td>533482</td>\n",
       "      <td>17770</td>\n",
       "      <td>3</td>\n",
       "    </tr>\n",
       "    <tr>\n",
       "      <td>1408393</td>\n",
       "      <td>1196966</td>\n",
       "      <td>17770</td>\n",
       "      <td>2</td>\n",
       "    </tr>\n",
       "    <tr>\n",
       "      <td>1408394</td>\n",
       "      <td>2334295</td>\n",
       "      <td>17770</td>\n",
       "      <td>3</td>\n",
       "    </tr>\n",
       "  </tbody>\n",
       "</table>\n",
       "<p>1408395 rows × 3 columns</p>\n",
       "</div>"
      ],
      "text/plain": [
       "          userId movieId rating\n",
       "0          30878       1      4\n",
       "1        2647871       1      4\n",
       "2        1283744       1      3\n",
       "3        2488120       1      5\n",
       "4         317050       1      5\n",
       "...          ...     ...    ...\n",
       "1408390   829192   17770      3\n",
       "1408391    54864   17770      1\n",
       "1408392   533482   17770      3\n",
       "1408393  1196966   17770      2\n",
       "1408394  2334295   17770      3\n",
       "\n",
       "[1408395 rows x 3 columns]"
      ]
     },
     "execution_count": 36,
     "metadata": {},
     "output_type": "execute_result"
    }
   ],
   "source": [
    "testset"
   ]
  },
  {
   "cell_type": "markdown",
   "metadata": {},
   "source": [
    "#### 将训练集通过surprise工具箱的方法进行解析，得到适合推荐算法训练的训练集trainset"
   ]
  },
  {
   "cell_type": "code",
   "execution_count": 37,
   "metadata": {},
   "outputs": [],
   "source": [
    "reader = Reader(line_format='user item rating', sep='\\t')\n",
    "trainset = Dataset.load_from_df(trainset, reader=reader)\n",
    "trainset = trainset.build_full_trainset()"
   ]
  },
  {
   "cell_type": "markdown",
   "metadata": {},
   "source": [
    "#### 拟合Baseline模型"
   ]
  },
  {
   "cell_type": "code",
   "execution_count": 39,
   "metadata": {},
   "outputs": [
    {
     "name": "stdout",
     "output_type": "stream",
     "text": [
      "Estimating biases using als...\n"
     ]
    },
    {
     "data": {
      "text/plain": [
       "<surprise.prediction_algorithms.baseline_only.BaselineOnly at 0x1c6cb260e88>"
      ]
     },
     "execution_count": 39,
     "metadata": {},
     "output_type": "execute_result"
    }
   ],
   "source": [
    "algo = BaselineOnly()\n",
    "algo.fit(trainset)"
   ]
  },
  {
   "cell_type": "markdown",
   "metadata": {},
   "source": [
    "#### 使用testset数据集计算RMSE"
   ]
  },
  {
   "cell_type": "code",
   "execution_count": 40,
   "metadata": {},
   "outputs": [],
   "source": [
    "prediction = []"
   ]
  },
  {
   "cell_type": "markdown",
   "metadata": {},
   "source": [
    "#### 使用推荐算法的predict方法预测用户评分，并存储在列表中"
   ]
  },
  {
   "cell_type": "code",
   "execution_count": 41,
   "metadata": {},
   "outputs": [
    {
     "data": {
      "text/plain": [
       "Prediction(uid='2647871', iid='1', r_ui=None, est=3.2536821951037833, details={'was_impossible': False})"
      ]
     },
     "execution_count": 41,
     "metadata": {},
     "output_type": "execute_result"
    }
   ],
   "source": [
    "#查看predict返回值\n",
    "data = testset.iloc[1]\n",
    "algo.predict(data[0], data[1], r_ui=None, clip=True, verbose=False)"
   ]
  },
  {
   "cell_type": "code",
   "execution_count": 42,
   "metadata": {},
   "outputs": [
    {
     "data": {
      "text/plain": [
       "3.2536821951037833"
      ]
     },
     "execution_count": 42,
     "metadata": {},
     "output_type": "execute_result"
    }
   ],
   "source": [
    "#得到某一个评分\n",
    "algo.predict(data[0], data[1], r_ui=None, clip=True, verbose=False)[3]"
   ]
  },
  {
   "cell_type": "code",
   "execution_count": 43,
   "metadata": {},
   "outputs": [],
   "source": [
    "#将预测值存起来\n",
    "for i in range(len(testset)):\n",
    "    data = testset.iloc[i]\n",
    "    prediction.append(algo.predict(data[0], data[1], r_ui=None, clip=True, verbose=False)[3])"
   ]
  },
  {
   "cell_type": "code",
   "execution_count": 50,
   "metadata": {},
   "outputs": [],
   "source": [
    "labels = testset['rating']"
   ]
  },
  {
   "cell_type": "code",
   "execution_count": 51,
   "metadata": {},
   "outputs": [
    {
     "name": "stdout",
     "output_type": "stream",
     "text": [
      "均方误差RMSE为：1.0547529794971073\n"
     ]
    }
   ],
   "source": [
    "print(\"均方误差RMSE为：\"+str(np.sqrt(mean_squared_error(prediction, labels))))"
   ]
  },
  {
   "cell_type": "code",
   "execution_count": null,
   "metadata": {},
   "outputs": [],
   "source": []
  }
 ],
 "metadata": {
  "kernelspec": {
   "display_name": "Python 3",
   "language": "python",
   "name": "python3"
  },
  "language_info": {
   "codemirror_mode": {
    "name": "ipython",
    "version": 3
   },
   "file_extension": ".py",
   "mimetype": "text/x-python",
   "name": "python",
   "nbconvert_exporter": "python",
   "pygments_lexer": "ipython3",
   "version": "3.7.4"
  }
 },
 "nbformat": 4,
 "nbformat_minor": 4
}
