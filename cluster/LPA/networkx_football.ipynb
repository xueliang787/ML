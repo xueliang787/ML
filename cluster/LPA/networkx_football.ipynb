{
 "cells": [
  {
   "cell_type": "code",
   "execution_count": 1,
   "metadata": {},
   "outputs": [
    {
     "name": "stderr",
     "output_type": "stream",
     "text": [
      "D:\\install_path\\Anaconda\\lib\\site-packages\\networkx\\drawing\\nx_pylab.py:579: MatplotlibDeprecationWarning: \n",
      "The iterable function was deprecated in Matplotlib 3.1 and will be removed in 3.3. Use np.iterable instead.\n",
      "  if not cb.iterable(width):\n"
     ]
    },
    {
     "data": {
      "text/plain": [
       "<Figure size 640x480 with 1 Axes>"
      ]
     },
     "metadata": {},
     "output_type": "display_data"
    },
    {
     "name": "stdout",
     "output_type": "stream",
     "text": [
      "[{'MiamiOhio', 'Kent', 'Marshall', 'Buffalo', 'Ohio', 'Connecticut', 'BowlingGreenState', 'Akron'}, {'Syracuse', 'Temple', 'WestVirginia', 'VirginiaTech', 'Navy', 'MiamiFlorida', 'BostonCollege', 'NotreDame', 'Rutgers', 'Pittsburgh'}, {'BrighamYoung', 'ColoradoState', 'SanDiegoState', 'Wyoming', 'NevadaLasVegas', 'AirForce', 'NewMexico', 'Utah'}, {'Illinois', 'PennState', 'Purdue', 'Iowa', 'Indiana', 'MichiganState', 'OhioState', 'Northwestern', 'Michigan', 'Minnesota', 'Wisconsin'}, {'Oklahoma', 'KansasState', 'TexasTech', 'Colorado', 'Nebraska', 'TexasA&M', 'OklahomaState', 'Kansas', 'Baylor', 'IowaState', 'Missouri', 'Texas'}, {'Maryland', 'Virginia', 'Clemson', 'Duke', 'GeorgiaTech', 'FloridaState', 'NorthCarolinaState', 'WakeForest', 'NorthCarolina'}, {'OregonState', 'Arizona', 'NorthTexas', 'Washington', 'UtahState', 'UCLA', 'NewMexicoState', 'ArizonaState', 'WashingtonState', 'Idaho', 'California', 'Oregon', 'BoiseState', 'SouthernCalifornia', 'ArkansasState', 'Stanford'}, {'Army', 'SouthernMississippi', 'Tulane', 'Houston', 'Memphis', 'EastCarolina', 'Louisville', 'AlabamaBirmingham', 'Cincinnati'}, {'MississippiState', 'LouisianaTech', 'LouisianaState', 'Florida', 'MiddleTennesseeState', 'Kentucky', 'Mississippi', 'LouisianaMonroe', 'CentralFlorida', 'Auburn', 'Alabama', 'Tennessee', 'LouisianaLafayette', 'SouthCarolina', 'Arkansas', 'Vanderbilt', 'Georgia'}, {'Tulsa', 'Rice', 'TexasChristian', 'FresnoState', 'Nevada', 'Hawaii', 'SouthernMethodist', 'SanJoseState', 'TexasElPaso'}, {'Toledo', 'CentralMichigan', 'NorthernIllinois', 'WesternMichigan', 'EasternMichigan', 'BallState'}]\n",
      "11\n"
     ]
    }
   ],
   "source": [
    "import networkx as nx\n",
    "from networkx.algorithms import community\n",
    "import matplotlib.pyplot as plt\n",
    "\n",
    "# 数据加载\n",
    "G=nx.read_gml('./football.gml')\n",
    "# 可视化\n",
    "nx.draw(G,with_labels=True) \n",
    "plt.show()\n",
    "# 社区发现\n",
    "communities = list(community.label_propagation_communities(G))\n",
    "print(communities)\n",
    "print(len(communities))"
   ]
  },
  {
   "cell_type": "code",
   "execution_count": null,
   "metadata": {},
   "outputs": [],
   "source": []
  }
 ],
 "metadata": {
  "kernelspec": {
   "display_name": "Python 3",
   "language": "python",
   "name": "python3"
  },
  "language_info": {
   "codemirror_mode": {
    "name": "ipython",
    "version": 3
   },
   "file_extension": ".py",
   "mimetype": "text/x-python",
   "name": "python",
   "nbconvert_exporter": "python",
   "pygments_lexer": "ipython3",
   "version": "3.7.4"
  }
 },
 "nbformat": 4,
 "nbformat_minor": 4
}
