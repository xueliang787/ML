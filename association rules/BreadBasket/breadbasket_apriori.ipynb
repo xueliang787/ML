{
 "cells": [
  {
   "cell_type": "code",
   "execution_count": 9,
   "metadata": {},
   "outputs": [],
   "source": [
    "import pandas as pd\n",
    "import time"
   ]
  },
  {
   "cell_type": "code",
   "execution_count": 10,
   "metadata": {},
   "outputs": [],
   "source": [
    "# 数据加载\n",
    "data = pd.read_csv('./BreadBasket_DMS.csv')\n",
    "# 统一小写\n",
    "data['Item'] = data['Item'].str.lower()\n",
    "# 去掉none项\n",
    "data = data.drop(data[data.Item == 'none'].index)"
   ]
  },
  {
   "cell_type": "code",
   "execution_count": 11,
   "metadata": {},
   "outputs": [],
   "source": [
    "# 采用efficient_apriori工具包\n",
    "def rule1():\n",
    "\tfrom efficient_apriori import apriori\n",
    "\tstart = time.time()\n",
    "\t# 得到一维数组orders_series，并且将Transaction作为index, value为Item取值\n",
    "\torders_series = data.set_index('Transaction')['Item']\n",
    "\t# 将数据集进行格式转换\n",
    "\ttransactions = []\n",
    "\ttemp_index = 0\n",
    "\tfor i, v in orders_series.items():\n",
    "\t\tif i != temp_index:\n",
    "\t\t\ttemp_set = set()\n",
    "\t\t\ttemp_index = i\n",
    "\t\t\ttemp_set.add(v)\n",
    "\t\t\ttransactions.append(temp_set)\n",
    "\t\telse:\n",
    "\t\t\ttemp_set.add(v)\n",
    "\t\n",
    "\t# 挖掘频繁项集和频繁规则\n",
    "\titemsets, rules = apriori(transactions, min_support=0.02,  min_confidence=0.5)\n",
    "\tprint('频繁项集：', itemsets)\n",
    "\tprint('关联规则：', rules)\n",
    "\tend = time.time()\n",
    "\tprint(\"用时：\", end-start)"
   ]
  },
  {
   "cell_type": "code",
   "execution_count": 12,
   "metadata": {},
   "outputs": [],
   "source": [
    "def encode_units(x):\n",
    "    if x <= 0:\n",
    "        return 0\n",
    "    if x >= 1:\n",
    "        return 1"
   ]
  },
  {
   "cell_type": "code",
   "execution_count": 13,
   "metadata": {},
   "outputs": [],
   "source": [
    "# 采用mlxtend.frequent_patterns工具包\n",
    "def rule2():\n",
    "\tfrom mlxtend.frequent_patterns import apriori\n",
    "\tfrom mlxtend.frequent_patterns import association_rules\n",
    "\tpd.options.display.max_columns=100\n",
    "\tstart = time.time()\n",
    "\thot_encoded_df=data.groupby(['Transaction','Item'])['Item'].count().unstack().reset_index().fillna(0).set_index('Transaction')\n",
    "\thot_encoded_df = hot_encoded_df.applymap(encode_units)\n",
    "\tfrequent_itemsets = apriori(hot_encoded_df, min_support=0.02, use_colnames=True)\n",
    "\trules = association_rules(frequent_itemsets, metric=\"lift\", min_threshold=0.5)\n",
    "\tprint(\"频繁项集：\", frequent_itemsets)\n",
    "\tprint(\"关联规则：\", rules[ (rules['lift'] >= 1) & (rules['confidence'] >= 0.5) ])\n",
    "\t#print(rules['confidence'])\n",
    "\tend = time.time()\n",
    "\tprint(\"用时：\", end-start)"
   ]
  },
  {
   "cell_type": "code",
   "execution_count": 14,
   "metadata": {},
   "outputs": [
    {
     "name": "stdout",
     "output_type": "stream",
     "text": [
      "频繁项集： {1: {('scandinavian',): 275, ('hot chocolate',): 552, ('cookies',): 515, ('muffin',): 364, ('pastry',): 815, ('coffee',): 4528, ('bread',): 3096, ('medialuna',): 585, ('tea',): 1350, ('farm house',): 371, ('juice',): 365, ('soup',): 326, ('cake',): 983, ('sandwich',): 680, ('alfajores',): 344, ('brownie',): 379, ('truffles',): 192, ('toast',): 318, ('scone',): 327}, 2: {('bread', 'coffee'): 852, ('bread', 'pastry'): 276, ('coffee', 'pastry'): 450, ('coffee', 'medialuna'): 333, ('coffee', 'tea'): 472, ('bread', 'tea'): 266, ('coffee', 'juice'): 195, ('coffee', 'hot chocolate'): 280, ('coffee', 'cookies'): 267, ('cake', 'coffee'): 518, ('cake', 'tea'): 225, ('bread', 'cake'): 221, ('coffee', 'sandwich'): 362, ('coffee', 'toast'): 224}}\n",
      "关联规则： [{pastry} -> {coffee}, {medialuna} -> {coffee}, {juice} -> {coffee}, {hot chocolate} -> {coffee}, {cookies} -> {coffee}, {cake} -> {coffee}, {sandwich} -> {coffee}, {toast} -> {coffee}]\n",
      "用时： 0.1864931583404541\n"
     ]
    }
   ],
   "source": [
    "rule1()"
   ]
  },
  {
   "cell_type": "code",
   "execution_count": 15,
   "metadata": {},
   "outputs": [
    {
     "name": "stdout",
     "output_type": "stream",
     "text": [
      "频繁项集：      support                 itemsets\n",
      "0   0.036348              (alfajores)\n",
      "1   0.327134                  (bread)\n",
      "2   0.040046                (brownie)\n",
      "3   0.103867                   (cake)\n",
      "4   0.478445                 (coffee)\n",
      "5   0.054417                (cookies)\n",
      "6   0.039201             (farm house)\n",
      "7   0.058326          (hot chocolate)\n",
      "8   0.038567                  (juice)\n",
      "9   0.061813              (medialuna)\n",
      "10  0.038462                 (muffin)\n",
      "11  0.086116                 (pastry)\n",
      "12  0.071851               (sandwich)\n",
      "13  0.029057           (scandinavian)\n",
      "14  0.034552                  (scone)\n",
      "15  0.034446                   (soup)\n",
      "16  0.142646                    (tea)\n",
      "17  0.033601                  (toast)\n",
      "18  0.020287               (truffles)\n",
      "19  0.023352            (cake, bread)\n",
      "20  0.090025          (coffee, bread)\n",
      "21  0.029163          (pastry, bread)\n",
      "22  0.028107             (tea, bread)\n",
      "23  0.054734           (cake, coffee)\n",
      "24  0.023774              (cake, tea)\n",
      "25  0.028212        (cookies, coffee)\n",
      "26  0.029586  (hot chocolate, coffee)\n",
      "27  0.020604          (juice, coffee)\n",
      "28  0.035186      (coffee, medialuna)\n",
      "29  0.047549         (pastry, coffee)\n",
      "30  0.038250       (sandwich, coffee)\n",
      "31  0.049873            (coffee, tea)\n",
      "32  0.023669          (toast, coffee)\n",
      "关联规则：         antecedents consequents  antecedent support  consequent support  \\\n",
      "8            (cake)    (coffee)            0.103867            0.478445   \n",
      "12        (cookies)    (coffee)            0.054417            0.478445   \n",
      "14  (hot chocolate)    (coffee)            0.058326            0.478445   \n",
      "16          (juice)    (coffee)            0.038567            0.478445   \n",
      "19      (medialuna)    (coffee)            0.061813            0.478445   \n",
      "20         (pastry)    (coffee)            0.086116            0.478445   \n",
      "22       (sandwich)    (coffee)            0.071851            0.478445   \n",
      "26          (toast)    (coffee)            0.033601            0.478445   \n",
      "\n",
      "     support  confidence      lift  leverage  conviction  \n",
      "8   0.054734    0.526958  1.101399  0.005039    1.102557  \n",
      "12  0.028212    0.518447  1.083608  0.002177    1.083069  \n",
      "14  0.029586    0.507246  1.060199  0.001680    1.058451  \n",
      "16  0.020604    0.534247  1.116632  0.002152    1.119810  \n",
      "19  0.035186    0.569231  1.189753  0.005612    1.210754  \n",
      "20  0.047549    0.552147  1.154046  0.006347    1.164569  \n",
      "22  0.038250    0.532353  1.112674  0.003873    1.115276  \n",
      "26  0.023669    0.704403  1.472276  0.007592    1.764411  \n",
      "用时： 0.5475385189056396\n"
     ]
    }
   ],
   "source": [
    "rule2()"
   ]
  },
  {
   "cell_type": "code",
   "execution_count": null,
   "metadata": {},
   "outputs": [],
   "source": []
  }
 ],
 "metadata": {
  "kernelspec": {
   "display_name": "Python 3",
   "language": "python",
   "name": "python3"
  },
  "language_info": {
   "codemirror_mode": {
    "name": "ipython",
    "version": 3
   },
   "file_extension": ".py",
   "mimetype": "text/x-python",
   "name": "python",
   "nbconvert_exporter": "python",
   "pygments_lexer": "ipython3",
   "version": "3.7.4"
  }
 },
 "nbformat": 4,
 "nbformat_minor": 4
}
