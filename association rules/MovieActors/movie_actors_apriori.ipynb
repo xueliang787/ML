{
 "cells": [
  {
   "cell_type": "code",
   "execution_count": 4,
   "metadata": {},
   "outputs": [],
   "source": [
    "# 分析MovieLens 电影分类中的频繁项集和关联规则\n",
    "import pandas as pd\n",
    "from mlxtend.frequent_patterns import apriori\n",
    "from mlxtend.frequent_patterns import association_rules"
   ]
  },
  {
   "cell_type": "code",
   "execution_count": 5,
   "metadata": {},
   "outputs": [
    {
     "name": "stdout",
     "output_type": "stream",
     "text": [
      "             title  GangZhao  LukeZhiGangLiu  PengZhenZhong  YuanFang  一纳  \\\n",
      "0       囧妈‎ (2020)         0               0              0         0   0   \n",
      "1    我不是药神‎ (2018)         0               0              0         0   0   \n",
      "2   我和我的祖国‎ (2019)         0               0              0         0   0   \n",
      "3   疯狂的外星人‎ (2019)         0               0              0         0   0   \n",
      "4  人再囧途之泰囧‎ (2012)         0               0              0         0   0   \n",
      "\n",
      "   丁嘉丽  丁志城  丁志诚  丁黑  万弘杰  严敏  严晓频  中孝介  丹尼尔·海尼  乔任梁  九孔  于和伟  于波  于荣光  于谦  \\\n",
      "0    0    0    0   0    0   0    0    0       0    0   0    0   0    0   0   \n",
      "1    0    0    0   0    0   0    0    0       0    0   0    0   0    0   0   \n",
      "2    0    0    0   0    0   0    0    0       0    0   0    0   0    0   0   \n",
      "3    0    0    0   0    0   0    0    0       0    0   0    1   0    0   0   \n",
      "4    0    0    0   0    0   0    0    0       0    0   0    0   0    0   0   \n",
      "\n",
      "   仁龙  付连智  任达华  任静  任鹏远  伊一  伊春德  伊能静  伊莎贝尔·于佩尔  优恵  何念  何炅  何琳  余彬  余文乐  余男  \\\n",
      "0   0    0    0   0    0   0    0    0         0   0   0   0   0   0    0   0   \n",
      "1   0    0    0   0    0   0    0    0         0   0   0   0   0   0    0   0   \n",
      "2   0    0    0   0    0   0    0    0         0   0   0   0   0   0    0   0   \n",
      "3   0    0    0   0    0   0    0    0         0   0   0   0   0   0    0   0   \n",
      "4   0    0    0   0    0   0    0    0         0   0   0   0   0   0    0   0   \n",
      "\n",
      "   佟丽娅  佟大为  佟瑞欣  侯勇  侯梦莎  保剑锋  俞杭英  倪虹洁  傅东育  傅彪  傅浤鸣  傅艺伟  克里斯·帕拉特  ...  陈红  \\\n",
      "0    0    0    0   0    0    0    0    0    0   0    0    0        0  ...   0   \n",
      "1    0    0    0   0    0    0    0    0    0   0    0    0        0  ...   0   \n",
      "2    0    0    0   0    0    0    0    0    0   0    0    0        0  ...   0   \n",
      "3    0    0    0   0    0    0    0    0    0   0    0    0        0  ...   0   \n",
      "4    0    0    0   0    0    0    0    0    0   0    0    0        0  ...   0   \n",
      "\n",
      "   陈继铭  陈逸宁  陶慧  陶晶莹  陶白莉  陶虹  隋兰  雷佳音  雷恪生  雷蒙德·雷德  霍建起  鞠觉亮  韩三平  韩东君  韩庚  \\\n",
      "0    0    0   0    0    0   0   0    0    0       0    0    0    0    0   0   \n",
      "1    0    0   0    0    0   0   0    0    0       0    0    0    0    0   0   \n",
      "2    0    0   0    0    0   0   0    0    0       0    0    0    0    0   0   \n",
      "3    0    0   0    0    0   0   0    1    0       0    0    0    0    0   0   \n",
      "4    0    0   0    0    0   1   0    0    0       0    0    0    0    0   0   \n",
      "\n",
      "   韩昊霖  颜丙燕  马东  马修·莫里森  马健  马少骅  马思纯  马晓伟  马特·弗里沃  马苏  高一功  高圆圆  高宝宝  高捷  高鑫  \\\n",
      "0    0    0   0       0   0    0    0    0       0   0    0    0    0   0   0   \n",
      "1    0    0   0       0   0    0    0    0       0   0    0    0    0   0   0   \n",
      "2    1    0   0       0   0    0    0    0       0   0    0    0    0   0   0   \n",
      "3    0    0   0       1   0    0    0    0       0   0    0    0    0   0   0   \n",
      "4    0    0   0       0   0    0    0    0       0   0    0    0    0   0   0   \n",
      "\n",
      "   魏宗万  魏积安  鲍国安  麦斯·米科尔森  黄奕  黄宏  黄小蕾  黄尧  黄建新  黄晓明  黄梅莹  黄渤  黄磊  黄蜀芹  黄轩  \\\n",
      "0    0    0    0        0   0   0    0   0    0    0    1   0   0    0   0   \n",
      "1    0    0    0        0   0   0    0   0    0    0    0   0   0    0   0   \n",
      "2    0    0    0        0   0   0    0   0    0    0    0   1   0    0   0   \n",
      "3    0    0    0        0   0   0    0   0    0    0    0   1   0    0   0   \n",
      "4    0    0    0        0   0   0    0   0    0    0    0   1   0    0   0   \n",
      "\n",
      "   黄达亮  黄龄  黎明  黑泽清  \n",
      "0    0   0   0    0  \n",
      "1    0   0   0    0  \n",
      "2    0   0   0    0  \n",
      "3    0   0   0    0  \n",
      "4    0   0   0    0  \n",
      "\n",
      "[5 rows x 486 columns]\n"
     ]
    }
   ],
   "source": [
    "# 数据加载\n",
    "movies = pd.read_csv('./movie_actors.csv')\n",
    "#print(movies.head())\n",
    "# 将genres进行one-hot编码（离散特征有多少取值，就用多少维来表示这个特征）\n",
    "movies_hot_encoded = movies.drop('actors',1).join(movies.actors.str.get_dummies('/'))\n",
    "pd.options.display.max_columns=100\n",
    "print(movies_hot_encoded.head())\n"
   ]
  },
  {
   "cell_type": "code",
   "execution_count": 6,
   "metadata": {},
   "outputs": [
    {
     "name": "stdout",
     "output_type": "stream",
     "text": [
      "-------------------- 频繁项集 --------------------\n",
      "     support      itemsets\n",
      "2   0.760417          (徐峥)\n",
      "7   0.156250          (黄渤)\n",
      "11  0.093750      (黄渤, 徐峥)\n",
      "1   0.072917          (宁浩)\n",
      "0   0.062500         (于和伟)\n",
      "6   0.062500          (陶虹)\n",
      "8   0.062500      (宁浩, 徐峥)\n",
      "9   0.062500      (宁浩, 黄渤)\n",
      "13  0.062500  (宁浩, 黄渤, 徐峥)\n",
      "3   0.052083         (王宝强)\n",
      "4   0.052083          (王迅)\n",
      "5   0.052083         (陈凯歌)\n",
      "10  0.052083      (陶虹, 徐峥)\n",
      "12  0.052083      (王迅, 黄渤)\n",
      "-------------------- 关联规则 --------------------\n",
      "  antecedents consequents  antecedent support  consequent support   support  \\\n",
      "3    (黄渤, 徐峥)        (宁浩)            0.093750            0.072917  0.062500   \n",
      "4        (宁浩)    (黄渤, 徐峥)            0.072917            0.093750  0.062500   \n",
      "2    (宁浩, 徐峥)        (黄渤)            0.062500            0.156250  0.062500   \n",
      "5        (黄渤)    (宁浩, 徐峥)            0.156250            0.062500  0.062500   \n",
      "6        (王迅)        (黄渤)            0.052083            0.156250  0.052083   \n",
      "7        (黄渤)        (王迅)            0.156250            0.052083  0.052083   \n",
      "0        (宁浩)        (黄渤)            0.072917            0.156250  0.062500   \n",
      "1        (黄渤)        (宁浩)            0.156250            0.072917  0.062500   \n",
      "\n",
      "   confidence      lift  leverage  conviction  \n",
      "3    0.666667  9.142857  0.055664    2.781250  \n",
      "4    0.857143  9.142857  0.055664    6.343750  \n",
      "2    1.000000  6.400000  0.052734         inf  \n",
      "5    0.400000  6.400000  0.052734    1.562500  \n",
      "6    1.000000  6.400000  0.043945         inf  \n",
      "7    0.333333  6.400000  0.043945    1.421875  \n",
      "0    0.857143  5.485714  0.051107    5.906250  \n",
      "1    0.400000  5.485714  0.051107    1.545139  \n"
     ]
    }
   ],
   "source": [
    "# 将movieId, title设置为index\n",
    "movies_hot_encoded.set_index(['title'],inplace=True)\n",
    "#print(movies_hot_encoded.head())\n",
    "# 挖掘频繁项集，最小支持度为0.02\n",
    "itemsets = apriori(movies_hot_encoded,use_colnames=True, min_support=0.05)\n",
    "# 按照支持度从大到小进行时候粗\n",
    "itemsets = itemsets.sort_values(by=\"support\" , ascending=False) \n",
    "print('-'*20, '频繁项集', '-'*20)\n",
    "print(itemsets)\n",
    "# 根据频繁项集计算关联规则，设置最小提升度为2\n",
    "rules =  association_rules(itemsets, metric='lift', min_threshold=2)\n",
    "# 按照提升度从大到小进行排序\n",
    "rules = rules.sort_values(by=\"lift\" , ascending=False) \n",
    "#rules.to_csv('./rules.csv')\n",
    "print('-'*20, '关联规则', '-'*20)\n",
    "print(rules)"
   ]
  }
 ],
 "metadata": {
  "kernelspec": {
   "display_name": "Python 3",
   "language": "python",
   "name": "python3"
  },
  "language_info": {
   "codemirror_mode": {
    "name": "ipython",
    "version": 3
   },
   "file_extension": ".py",
   "mimetype": "text/x-python",
   "name": "python",
   "nbconvert_exporter": "python",
   "pygments_lexer": "ipython3",
   "version": "3.7.4"
  }
 },
 "nbformat": 4,
 "nbformat_minor": 4
}
